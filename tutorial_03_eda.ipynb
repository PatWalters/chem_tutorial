{
 "cells": [
  {
   "cell_type": "code",
   "execution_count": 3,
   "id": "controlled-beaver",
   "metadata": {},
   "outputs": [
    {
     "ename": "ModuleNotFoundError",
     "evalue": "No module named 'umap'",
     "output_type": "error",
     "traceback": [
      "\u001b[0;31m---------------------------------------------------------------------------\u001b[0m",
      "\u001b[0;31mModuleNotFoundError\u001b[0m                       Traceback (most recent call last)",
      "\u001b[0;32m/tmp/ipykernel_31663/2531233194.py\u001b[0m in \u001b[0;36m<module>\u001b[0;34m\u001b[0m\n\u001b[1;32m      7\u001b[0m \u001b[0;32mfrom\u001b[0m \u001b[0msklearn\u001b[0m\u001b[0;34m.\u001b[0m\u001b[0mpreprocessing\u001b[0m \u001b[0;32mimport\u001b[0m \u001b[0mStandardScaler\u001b[0m\u001b[0;34m\u001b[0m\u001b[0;34m\u001b[0m\u001b[0m\n\u001b[1;32m      8\u001b[0m \u001b[0;32mfrom\u001b[0m \u001b[0msklearn\u001b[0m\u001b[0;34m.\u001b[0m\u001b[0mmanifold\u001b[0m \u001b[0;32mimport\u001b[0m \u001b[0mTSNE\u001b[0m\u001b[0;34m\u001b[0m\u001b[0;34m\u001b[0m\u001b[0m\n\u001b[0;32m----> 9\u001b[0;31m \u001b[0;32mfrom\u001b[0m \u001b[0mumap\u001b[0m \u001b[0;32mimport\u001b[0m \u001b[0mUMAP\u001b[0m\u001b[0;34m\u001b[0m\u001b[0;34m\u001b[0m\u001b[0m\n\u001b[0m",
      "\u001b[0;31mModuleNotFoundError\u001b[0m: No module named 'umap'"
     ]
    }
   ],
   "source": [
    "import pandas as pd\n",
    "import seaborn as sns\n",
    "import numpy as np\n",
    "from rdkit import Chem\n",
    "from rdkit.Chem.Descriptors import MolLogP\n",
    "from tqdm.auto import tqdm\n",
    "from sklearn.preprocessing import StandardScaler\n",
    "from sklearn.manifold import TSNE\n",
    "from umap import UMAP"
   ]
  },
  {
   "cell_type": "markdown",
   "id": "ethical-drunk",
   "metadata": {},
   "source": [
    "Make Pandas use Seaborn for plots"
   ]
  },
  {
   "cell_type": "code",
   "execution_count": null,
   "id": "disciplinary-november",
   "metadata": {},
   "outputs": [],
   "source": [
    "sns.set()"
   ]
  },
  {
   "cell_type": "markdown",
   "id": "enabling-person",
   "metadata": {},
   "source": [
    "Enable Pandas progress_apply"
   ]
  },
  {
   "cell_type": "code",
   "execution_count": null,
   "id": "previous-guard",
   "metadata": {},
   "outputs": [],
   "source": [
    "tqdm.pandas()"
   ]
  },
  {
   "cell_type": "markdown",
   "id": "vocal-connecticut",
   "metadata": {},
   "source": [
    "A few settings to make plots look better. Here's a link to [my gist](https://gist.github.com/PatWalters/1b7600dd6d195e2cb8dded8454e1777e) with a bunch of tricks for making Seaborn plots look better. "
   ]
  },
  {
   "cell_type": "code",
   "execution_count": null,
   "id": "brave-compiler",
   "metadata": {},
   "outputs": [],
   "source": [
    "sns.set(rc={'figure.figsize': (10, 10)})\n",
    "sns.set_style('whitegrid')\n",
    "sns.set_context('talk')"
   ]
  },
  {
   "cell_type": "markdown",
   "id": "lightweight-manitoba",
   "metadata": {},
   "source": [
    "Examine solubility data from https://www.nature.com/articles/s41597-019-0151-1"
   ]
  },
  {
   "cell_type": "code",
   "execution_count": null,
   "id": "technical-ordinance",
   "metadata": {},
   "outputs": [],
   "source": [
    "df = pd.read_csv(\"curated-solubility-dataset.csv\")"
   ]
  },
  {
   "cell_type": "code",
   "execution_count": null,
   "id": "selective-worthy",
   "metadata": {},
   "outputs": [],
   "source": [
    "df"
   ]
  },
  {
   "cell_type": "markdown",
   "id": "fifteen-citizenship",
   "metadata": {},
   "source": [
    "- G1 - occurs once in the dataset\n",
    "- G2 - occurs twice in the dataset, SD > 0.5\n",
    "- G3 - occurs twice in the dataset, SD <= 0.5\n",
    "- G4 - occurs three or more times in the dataset, SD > 0.5\n",
    "- G5 - occurs three or more times in the dataset, SD <= 0.5"
   ]
  },
  {
   "cell_type": "code",
   "execution_count": null,
   "id": "lucky-disclaimer",
   "metadata": {},
   "outputs": [],
   "source": [
    "df.Group.value_counts()"
   ]
  },
  {
   "cell_type": "code",
   "execution_count": null,
   "id": "adaptive-disorder",
   "metadata": {},
   "outputs": [],
   "source": [
    "df.Group.value_counts(normalize=True)"
   ]
  },
  {
   "cell_type": "code",
   "execution_count": null,
   "id": "cosmetic-thought",
   "metadata": {},
   "outputs": [],
   "source": [
    "df.Group.value_counts().to_frame().plot(kind=\"bar\")"
   ]
  },
  {
   "cell_type": "code",
   "execution_count": null,
   "id": "middle-crystal",
   "metadata": {},
   "outputs": [],
   "source": [
    "df_ok = df.query(\"Group in ['G3','G5']\").copy()\n",
    "df_ok.shape"
   ]
  },
  {
   "cell_type": "markdown",
   "id": "sophisticated-stockholm",
   "metadata": {},
   "source": [
    "Plot a frequency distribution for the solubility data using Seaborn's [displot](https://seaborn.pydata.org/generated/seaborn.displot.html)\n",
    "\n",
    "Experiment with\n",
    "- kind = \"kde\"\n",
    "- kind = \"hist\"\n",
    "- kind = \"ecdf\""
   ]
  },
  {
   "cell_type": "code",
   "execution_count": null,
   "id": "beneficial-noise",
   "metadata": {},
   "outputs": [],
   "source": [
    "sns.displot(x=df_ok.Solubility,kind=\"hist\",kde=True, height=8)"
   ]
  },
  {
   "cell_type": "markdown",
   "id": "rising-metropolitan",
   "metadata": {},
   "source": [
    "Let's bin the data\n",
    "- &gt;200 uM (green)\n",
    "- 30-200 uM (yellow)\n",
    "- <30 uM (red)"
   ]
  },
  {
   "cell_type": "code",
   "execution_count": null,
   "id": "significant-matrix",
   "metadata": {},
   "outputs": [],
   "source": [
    "bins = [np.log10(x*1e-6) for x in [30,200]]\n",
    "bins = [-100] + bins + [100]\n",
    "df_ok['bin'] = pd.cut(df.Solubility,bins=bins,labels=[\"Low\",\"Medium\",\"High\"])"
   ]
  },
  {
   "cell_type": "code",
   "execution_count": null,
   "id": "balanced-pizza",
   "metadata": {},
   "outputs": [],
   "source": [
    "color_map_3 = {\"Low\":\"red\",\"Medium\":\"yellow\",\"High\":\"green\"}\n",
    "g = sns.displot(x=\"Solubility\",kind=\"hist\",kde=True, height=8, hue=\"bin\",data=df_ok,palette=color_map_3)\n",
    "g.fig.legends[0].set_title(\"Solubility Bin\")"
   ]
  },
  {
   "cell_type": "code",
   "execution_count": null,
   "id": "outstanding-silicon",
   "metadata": {},
   "outputs": [],
   "source": [
    "ax = sns.boxplot(x=\"bin\",y=\"Solubility\",data=df_ok)\n",
    "ax.set_xlabel(\"Solubility Bin\")"
   ]
  },
  {
   "cell_type": "code",
   "execution_count": null,
   "id": "powered-control",
   "metadata": {},
   "outputs": [],
   "source": []
  },
  {
   "cell_type": "code",
   "execution_count": null,
   "id": "complete-charge",
   "metadata": {},
   "outputs": [],
   "source": [
    "df_ok['is_sol'] = [True if x == \"High\" else False for x in df_ok.bin]"
   ]
  },
  {
   "cell_type": "code",
   "execution_count": null,
   "id": "taken-barrel",
   "metadata": {},
   "outputs": [],
   "source": [
    "color_map_2 = {False :\"red\", True: \"green\"}\n",
    "g = sns.displot(x=\"Solubility\",kind=\"hist\",kde=True, height=8, hue=\"is_sol\",data=df_ok,palette=color_map_2)\n",
    "g.fig.legends[0].set_title(\"Solubility Bin\")"
   ]
  },
  {
   "cell_type": "code",
   "execution_count": null,
   "id": "assisted-folks",
   "metadata": {},
   "outputs": [],
   "source": [
    "desc_columns = df_ok.select_dtypes([int,float]).columns[3:]\n",
    "scaler = StandardScaler()\n",
    "scaled_descriptors = scaler.fit_transform(df_ok[desc_columns])"
   ]
  },
  {
   "cell_type": "code",
   "execution_count": null,
   "id": "sexual-charleston",
   "metadata": {},
   "outputs": [],
   "source": [
    "scaled_descriptors"
   ]
  },
  {
   "cell_type": "markdown",
   "id": "polyphonic-jerusalem",
   "metadata": {},
   "source": [
    "Use Truncated Stochastic Neighbor Embedding ([TSNE](https://scikit-learn.org/stable/modules/generated/sklearn.manifold.TSNE.html)) to view the relationship between solubility and our descriptors. "
   ]
  },
  {
   "cell_type": "code",
   "execution_count": null,
   "id": "involved-banking",
   "metadata": {},
   "outputs": [],
   "source": [
    "tsne = TSNE()\n",
    "tsne_crds = tsne.fit_transform(scaled_descriptors)"
   ]
  },
  {
   "cell_type": "code",
   "execution_count": null,
   "id": "thousand-discharge",
   "metadata": {},
   "outputs": [],
   "source": [
    "ax = sns.scatterplot(x=tsne_crds[:,0],y=tsne_crds[:,1],hue=df_ok.bin,palette=color_map_3)\n",
    "ax.get_legend().set_title(\"Solubility Bin\")"
   ]
  },
  {
   "cell_type": "markdown",
   "id": "fitted-thanks",
   "metadata": {},
   "source": [
    "Some will argue that [Uniform Manifold Approximation](https://umap-learn.readthedocs.io/en/latest/) (UMAP) is a better way to do this. I'm not particularly partial to either, but here's how to do the same thing with UMAP.  As you can see, the APIs are very similar. "
   ]
  },
  {
   "cell_type": "code",
   "execution_count": null,
   "id": "specified-london",
   "metadata": {},
   "outputs": [],
   "source": [
    "umap = UMAP()\n",
    "umap_crds = umap.fit_transform(scaled_descriptors)"
   ]
  },
  {
   "cell_type": "code",
   "execution_count": null,
   "id": "surgical-venice",
   "metadata": {},
   "outputs": [],
   "source": [
    "ax = sns.scatterplot(x=umap_crds[:,0],y=umap_crds[:,1],hue=df_ok.bin,palette=color_map_3)\n",
    "ax.get_legend().set_title(\"Solubility Bin\")"
   ]
  },
  {
   "cell_type": "markdown",
   "id": "matched-celebration",
   "metadata": {},
   "source": [
    "Note that we are only using 17 descriptors here.  In this case, we're ok running TSNE on our data.  If we have more than 50 dimensions, it's usually a good idea to run [PCA](https://scikit-learn.org/stable/modules/generated/sklearn.decomposition.PCA.html) on the dataset before running TSNE. "
   ]
  },
  {
   "cell_type": "code",
   "execution_count": null,
   "id": "satellite-sarah",
   "metadata": {},
   "outputs": [],
   "source": [
    "df_ok.to_csv(\"solubility_data_ok.csv\",index=False)"
   ]
  },
  {
   "cell_type": "code",
   "execution_count": null,
   "id": "expired-retreat",
   "metadata": {},
   "outputs": [],
   "source": []
  }
 ],
 "metadata": {
  "kernelspec": {
   "display_name": "Python 3 (ipykernel)",
   "language": "python",
   "name": "python3"
  },
  "language_info": {
   "codemirror_mode": {
    "name": "ipython",
    "version": 3
   },
   "file_extension": ".py",
   "mimetype": "text/x-python",
   "name": "python",
   "nbconvert_exporter": "python",
   "pygments_lexer": "ipython3",
   "version": "3.9.6"
  }
 },
 "nbformat": 4,
 "nbformat_minor": 5
}
