{
 "cells": [
  {
   "cell_type": "markdown",
   "id": "about-publicity",
   "metadata": {},
   "source": [
    "**Building a Simple Regression Model**"
   ]
  },
  {
   "cell_type": "code",
   "execution_count": 1,
   "id": "efficient-oliver",
   "metadata": {},
   "outputs": [],
   "source": [
    "import pandas as pd #data manipulation\n",
    "from tqdm.auto import tqdm #progress bar\n",
    "from rdkit import Chem #Chemistry\n",
    "from rdkit.Chem import rdMolDescriptors #molecular descriptors\n",
    "import numpy as np #matrix algebra\n",
    "from lightgbm import LGBMRegressor, plot_importance #LightGBM models\n",
    "from sklearn.model_selection import train_test_split #ML trainining\n",
    "from sklearn.metrics import r2_score, mean_squared_error #ML stats\n",
    "import seaborn as sns #Plotting"
   ]
  },
  {
   "cell_type": "markdown",
   "id": "wound-replacement",
   "metadata": {},
   "source": [
    "Enable Pandas progress_apply"
   ]
  },
  {
   "cell_type": "code",
   "execution_count": 2,
   "id": "diagnostic-alpha",
   "metadata": {},
   "outputs": [],
   "source": [
    "tqdm.pandas()"
   ]
  },
  {
   "cell_type": "markdown",
   "id": "tender-ministry",
   "metadata": {},
   "source": [
    "Read the data"
   ]
  },
  {
   "cell_type": "code",
   "execution_count": 3,
   "id": "homeless-thermal",
   "metadata": {},
   "outputs": [],
   "source": [
    "df = pd.read_csv(\"solubility_data_ok.csv\")"
   ]
  },
  {
   "cell_type": "markdown",
   "id": "featured-while",
   "metadata": {},
   "source": [
    "Set up property calculations"
   ]
  },
  {
   "cell_type": "code",
   "execution_count": 4,
   "id": "beginning-roommate",
   "metadata": {},
   "outputs": [],
   "source": [
    "property_names = list(rdMolDescriptors.Properties.GetAvailableProperties())\n",
    "property_getter = rdMolDescriptors.Properties(property_names)"
   ]
  },
  {
   "cell_type": "markdown",
   "id": "checked-representation",
   "metadata": {},
   "source": [
    "Define a function to calculate properties from SMILES"
   ]
  },
  {
   "cell_type": "code",
   "execution_count": 5,
   "id": "cosmetic-stock",
   "metadata": {},
   "outputs": [],
   "source": [
    "def smi2props(smi):\n",
    "    mol = Chem.MolFromSmiles(smi)\n",
    "    props = None\n",
    "    if mol:\n",
    "        props = np.array(property_getter.ComputeProperties(mol))\n",
    "    return props"
   ]
  },
  {
   "cell_type": "markdown",
   "id": "favorite-vintage",
   "metadata": {},
   "source": [
    "Add the properties to the dataframe"
   ]
  },
  {
   "cell_type": "code",
   "execution_count": 6,
   "id": "unsigned-coalition",
   "metadata": {},
   "outputs": [
    {
     "data": {
      "application/vnd.jupyter.widget-view+json": {
       "model_id": "e8602af27f7845d2b35beaaa76653d6b",
       "version_major": 2,
       "version_minor": 0
      },
      "text/plain": [
       "  0%|          | 0/1818 [00:00<?, ?it/s]"
      ]
     },
     "metadata": {},
     "output_type": "display_data"
    },
    {
     "name": "stderr",
     "output_type": "stream",
     "text": [
      "RDKit WARNING: [20:31:02] WARNING: not removing hydrogen atom without neighbors\n",
      "RDKit WARNING: [20:31:02] WARNING: not removing hydrogen atom without neighbors\n",
      "RDKit WARNING: [20:31:02] WARNING: not removing hydrogen atom without neighbors\n",
      "RDKit WARNING: [20:31:02] WARNING: not removing hydrogen atom without neighbors\n",
      "RDKit WARNING: [20:31:02] WARNING: not removing hydrogen atom without neighbors\n",
      "RDKit WARNING: [20:31:02] WARNING: not removing hydrogen atom without neighbors\n",
      "RDKit WARNING: [20:31:02] WARNING: not removing hydrogen atom without neighbors\n"
     ]
    }
   ],
   "source": [
    "df['props'] = df.SMILES.progress_apply(smi2props)"
   ]
  },
  {
   "cell_type": "markdown",
   "id": "minimal-parking",
   "metadata": {},
   "source": [
    "Put the descriptors into individual columns"
   ]
  },
  {
   "cell_type": "code",
   "execution_count": 7,
   "id": "qualified-bolivia",
   "metadata": {},
   "outputs": [],
   "source": [
    "df[property_names] = df['props'].to_list()"
   ]
  },
  {
   "cell_type": "markdown",
   "id": "operational-parts",
   "metadata": {},
   "source": [
    "Split the data into training and test sets"
   ]
  },
  {
   "cell_type": "code",
   "execution_count": 8,
   "id": "threatened-antarctica",
   "metadata": {},
   "outputs": [],
   "source": [
    "train, test = train_test_split(df)"
   ]
  },
  {
   "cell_type": "markdown",
   "id": "present-injury",
   "metadata": {},
   "source": [
    "Define x and y variables for model building"
   ]
  },
  {
   "cell_type": "code",
   "execution_count": 9,
   "id": "worse-experience",
   "metadata": {},
   "outputs": [],
   "source": [
    "train_X = train[property_names]\n",
    "train_y = train.Solubility\n",
    "test_X = test[property_names]\n",
    "test_y = test.Solubility"
   ]
  },
  {
   "cell_type": "markdown",
   "id": "pursuant-liechtenstein",
   "metadata": {},
   "source": [
    "Create a LightGBM Regressor"
   ]
  },
  {
   "cell_type": "code",
   "execution_count": 10,
   "id": "elect-sample",
   "metadata": {},
   "outputs": [],
   "source": [
    "lgbm = LGBMRegressor()"
   ]
  },
  {
   "cell_type": "markdown",
   "id": "gentle-career",
   "metadata": {},
   "source": [
    "Fit the model"
   ]
  },
  {
   "cell_type": "code",
   "execution_count": 11,
   "id": "exciting-community",
   "metadata": {},
   "outputs": [
    {
     "data": {
      "text/plain": [
       "LGBMRegressor()"
      ]
     },
     "execution_count": 11,
     "metadata": {},
     "output_type": "execute_result"
    }
   ],
   "source": [
    "lgbm.fit(train_X, train_y)"
   ]
  },
  {
   "cell_type": "markdown",
   "id": "subtle-marriage",
   "metadata": {},
   "source": [
    "Make the prediction"
   ]
  },
  {
   "cell_type": "code",
   "execution_count": 12,
   "id": "considerable-watch",
   "metadata": {},
   "outputs": [],
   "source": [
    "pred = lgbm.predict(test_X)"
   ]
  },
  {
   "cell_type": "markdown",
   "id": "aggressive-tulsa",
   "metadata": {},
   "source": [
    "Plot predicted vs experimental solubility"
   ]
  },
  {
   "cell_type": "code",
   "execution_count": 13,
   "id": "genuine-rendering",
   "metadata": {},
   "outputs": [
    {
     "data": {
      "text/plain": [
       "<AxesSubplot:xlabel='Solubility'>"
      ]
     },
     "execution_count": 13,
     "metadata": {},
     "output_type": "execute_result"
    },
    {
     "data": {
      "image/png": "[encoded data removed]",
      "text/plain": [
       "<Figure size 432x288 with 1 Axes>"
      ]
     },
     "metadata": {
      "needs_background": "light"
     },
     "output_type": "display_data"
    }
   ],
   "source": [
    "sns.scatterplot(x=test_y,y=pred)"
   ]
  },
  {
   "cell_type": "markdown",
   "id": "virtual-healing",
   "metadata": {},
   "source": [
    "Calculate the coeffcient of determination (R<sup>2</sup>)"
   ]
  },
  {
   "cell_type": "code",
   "execution_count": 14,
   "id": "executed-subcommittee",
   "metadata": {},
   "outputs": [
    {
     "data": {
      "text/plain": [
       "0.826381072929172"
      ]
     },
     "execution_count": 14,
     "metadata": {},
     "output_type": "execute_result"
    }
   ],
   "source": [
    "r2_score(test_y,pred)"
   ]
  },
  {
   "cell_type": "markdown",
   "id": "following-radical",
   "metadata": {},
   "source": [
    "Calculate the RMS error"
   ]
  },
  {
   "cell_type": "code",
   "execution_count": 15,
   "id": "closed-congress",
   "metadata": {},
   "outputs": [
    {
     "data": {
      "text/plain": [
       "0.9568057104282676"
      ]
     },
     "execution_count": 15,
     "metadata": {},
     "output_type": "execute_result"
    }
   ],
   "source": [
    "mean_squared_error(test_y,pred,squared=False)"
   ]
  },
  {
   "cell_type": "markdown",
   "id": "prepared-scanner",
   "metadata": {},
   "source": [
    "LightGBM provides an easy means of identifying important variables"
   ]
  },
  {
   "cell_type": "code",
   "execution_count": 16,
   "id": "opponent-thriller",
   "metadata": {},
   "outputs": [
    {
     "data": {
      "text/plain": [
       "<AxesSubplot:title={'center':'Feature importance'}, xlabel='Feature importance', ylabel='Features'>"
      ]
     },
     "execution_count": 16,
     "metadata": {},
     "output_type": "execute_result"
    },
    {
     "data": {
      "image/png": "[encoded data removed]",
      "text/plain": [
       "<Figure size 576x864 with 1 Axes>"
      ]
     },
     "metadata": {
      "needs_background": "light"
     },
     "output_type": "display_data"
    }
   ],
   "source": [
    "plot_importance(lgbm,figsize=(8,12),height=0.5)"
   ]
  },
  {
   "cell_type": "markdown",
   "id": "wicked-pattern",
   "metadata": {},
   "source": [
    "Run 10 cycles of cross validation on a model"
   ]
  },
  {
   "cell_type": "code",
   "execution_count": 25,
   "id": "public-current",
   "metadata": {},
   "outputs": [
    {
     "name": "stdout",
     "output_type": "stream",
     "text": [
      "0.7859123714241327\n",
      "0.823644426039584\n",
      "0.8280174221546074\n",
      "0.8389333259990526\n",
      "0.8419156673057648\n",
      "0.8337707890311226\n",
      "0.8072056299551243\n",
      "0.8402531510793378\n",
      "0.8394442356918463\n",
      "0.8650173553312475\n"
     ]
    },
    {
     "data": {
      "text/plain": [
       "[Text(0.5, 0, 'R$^2$')]"
      ]
     },
     "execution_count": 25,
     "metadata": {},
     "output_type": "execute_result"
    },
    {
     "data": {
      "image/png": "[encoded data removed]",
      "text/plain": [
       "<Figure size 432x288 with 1 Axes>"
      ]
     },
     "metadata": {
      "needs_background": "light"
     },
     "output_type": "display_data"
    }
   ],
   "source": [
    "r2_list = []\n",
    "for i in range(0,10):\n",
    "    train, test = train_test_split(df)\n",
    "    train_X = train[property_names]\n",
    "    train_y = train.Solubility\n",
    "    test_X = test[property_names]\n",
    "    test_y = test.Solubility\n",
    "    lgbm = LGBMRegressor()\n",
    "    lgbm.fit(train_X,train_y)\n",
    "    pred = lgbm.predict(test_X)\n",
    "    r2 = r2_score(test_y,pred)\n",
    "    print(r2)\n",
    "    r2_list.append(r2)\n",
    "sns.set_context('talk')\n",
    "ax = sns.boxplot(x=r2_list)\n",
    "ax.set(xlim=(0,1))\n",
    "ax.set(xlabel=\"R$^2$\")"
   ]
  },
  {
   "cell_type": "code",
   "execution_count": null,
   "id": "nuclear-plain",
   "metadata": {},
   "outputs": [],
   "source": []
  }
 ],
 "metadata": {
  "kernelspec": {
   "display_name": "Python 3",
   "language": "python",
   "name": "python3"
  },
  "language_info": {
   "codemirror_mode": {
    "name": "ipython",
    "version": 3
   },
   "file_extension": ".py",
   "mimetype": "text/x-python",
   "name": "python",
   "nbconvert_exporter": "python",
   "pygments_lexer": "ipython3",
   "version": "3.9.1"
  }
 },
 "nbformat": 4,
 "nbformat_minor": 5
}
